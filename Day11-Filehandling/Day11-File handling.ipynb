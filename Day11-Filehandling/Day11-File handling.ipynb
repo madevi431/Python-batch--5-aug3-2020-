{
 "cells": [
  {
   "cell_type": "markdown",
   "metadata": {},
   "source": [
    "## validate the given gmail\n",
    "- madevi431.Md31@apssdc.in\n",
    "- pythonApss_123@gov.info\n",
    "- it should starts with either alphabets or integers\n",
    "- it having special characters\n",
    "- username should 8-15\n",
    "- domain name having 5-15 characters \n"
   ]
  },
  {
   "cell_type": "markdown",
   "metadata": {},
   "source": [
    "## File Handling\n",
    "- File- collection of data\n",
    "- File operations\n",
    "    - read\n",
    "    - Write\n",
    "    - Close"
   ]
  },
  {
   "cell_type": "markdown",
   "metadata": {},
   "source": [
    "## Methods in file\n",
    "- x \n",
    "    - create a  empty file\n",
    "- r \n",
    "    - Read a conetent from the file\n",
    "- w\n",
    "    - Write a data inside the file and create a file if the file is not exist\n",
    "- a\n",
    "    - Append the data to the file\n",
    "- rw+\n",
    "- wr+\n",
    "- a+\n"
   ]
  },
  {
   "cell_type": "code",
   "execution_count": 3,
   "metadata": {},
   "outputs": [],
   "source": [
    "## file varaiable=open(\"filename\",mode)\n",
    "f=open(\"file1.txt\",\"x\")\n",
    "f.close()"
   ]
  },
  {
   "cell_type": "code",
   "execution_count": 4,
   "metadata": {},
   "outputs": [],
   "source": [
    "## create  another   file\n",
    "f=open(\"file2.txt\",\"x\")\n",
    "f.close()"
   ]
  },
  {
   "cell_type": "code",
   "execution_count": 5,
   "metadata": {},
   "outputs": [],
   "source": [
    "## remove the file\n",
    "import os\n",
    "os.remove(\"file2.txt\")"
   ]
  },
  {
   "cell_type": "code",
   "execution_count": 6,
   "metadata": {},
   "outputs": [
    {
     "name": "stdout",
     "output_type": "stream",
     "text": [
      "<_io.TextIOWrapper name='file1.txt' mode='w' encoding='cp1252'>\n"
     ]
    }
   ],
   "source": [
    "## write the data\n",
    "f=open(\"file1.txt\",\"w\")\n",
    "print(f)\n",
    "f.write(\"Hello Apssdc\")\n",
    "f.close()"
   ]
  },
  {
   "cell_type": "code",
   "execution_count": 9,
   "metadata": {},
   "outputs": [
    {
     "name": "stdout",
     "output_type": "stream",
     "text": [
      "<_io.TextIOWrapper name='file1.txt' mode='w' encoding='cp1252'>\n"
     ]
    }
   ],
   "source": [
    "## write the data\n",
    "f=open(\"file1.txt\",\"w\")\n",
    "print(f)\n",
    "f.write(\"Python online course\")\n",
    "f.write(\"\\nVzda\")\n",
    "f.close()"
   ]
  },
  {
   "cell_type": "code",
   "execution_count": 16,
   "metadata": {},
   "outputs": [
    {
     "name": "stdout",
     "output_type": "stream",
     "text": [
      "Python online course\n",
      "Vzda\n"
     ]
    }
   ],
   "source": [
    "f1=open(\"file1.txt\",\"r\")\n",
    "print(f1.read())\n",
    "f.close()"
   ]
  },
  {
   "cell_type": "code",
   "execution_count": 18,
   "metadata": {},
   "outputs": [
    {
     "name": "stdout",
     "output_type": "stream",
     "text": [
      "Pytho\n",
      "n o\n",
      "nlin\n"
     ]
    }
   ],
   "source": [
    "f1=open(\"file1.txt\",\"r\")\n",
    "print(f1.read(5))\n",
    "print(f1.read(3))\n",
    "print(f1.read(4))\n",
    "f.close()"
   ]
  },
  {
   "cell_type": "code",
   "execution_count": 19,
   "metadata": {},
   "outputs": [
    {
     "data": {
      "text/plain": [
       "['_CHUNK_SIZE',\n",
       " '__class__',\n",
       " '__del__',\n",
       " '__delattr__',\n",
       " '__dict__',\n",
       " '__dir__',\n",
       " '__doc__',\n",
       " '__enter__',\n",
       " '__eq__',\n",
       " '__exit__',\n",
       " '__format__',\n",
       " '__ge__',\n",
       " '__getattribute__',\n",
       " '__getstate__',\n",
       " '__gt__',\n",
       " '__hash__',\n",
       " '__init__',\n",
       " '__init_subclass__',\n",
       " '__iter__',\n",
       " '__le__',\n",
       " '__lt__',\n",
       " '__ne__',\n",
       " '__new__',\n",
       " '__next__',\n",
       " '__reduce__',\n",
       " '__reduce_ex__',\n",
       " '__repr__',\n",
       " '__setattr__',\n",
       " '__sizeof__',\n",
       " '__str__',\n",
       " '__subclasshook__',\n",
       " '_checkClosed',\n",
       " '_checkReadable',\n",
       " '_checkSeekable',\n",
       " '_checkWritable',\n",
       " '_finalizing',\n",
       " 'buffer',\n",
       " 'close',\n",
       " 'closed',\n",
       " 'detach',\n",
       " 'encoding',\n",
       " 'errors',\n",
       " 'fileno',\n",
       " 'flush',\n",
       " 'isatty',\n",
       " 'line_buffering',\n",
       " 'mode',\n",
       " 'name',\n",
       " 'newlines',\n",
       " 'read',\n",
       " 'readable',\n",
       " 'readline',\n",
       " 'readlines',\n",
       " 'reconfigure',\n",
       " 'seek',\n",
       " 'seekable',\n",
       " 'tell',\n",
       " 'truncate',\n",
       " 'writable',\n",
       " 'write',\n",
       " 'write_through',\n",
       " 'writelines']"
      ]
     },
     "execution_count": 19,
     "metadata": {},
     "output_type": "execute_result"
    }
   ],
   "source": [
    "dir(f1)\n",
    "    \n",
    "    "
   ]
  },
  {
   "cell_type": "code",
   "execution_count": 21,
   "metadata": {},
   "outputs": [],
   "source": [
    "## adding the data into file a\n",
    "with open(\"file1.txt\",\"a\")as f:\n",
    "    f.write(\"\\nHappy noon\")\n",
    "    f.write(\"\\nsatish\\n\")"
   ]
  },
  {
   "cell_type": "code",
   "execution_count": 24,
   "metadata": {},
   "outputs": [
    {
     "name": "stdout",
     "output_type": "stream",
     "text": [
      "Python online course\n",
      "VzdaHappy noonsatish\n",
      "Happy noon\n",
      "satish\n",
      "\n"
     ]
    }
   ],
   "source": [
    "with open (\"file1.txt\",\"r\") as f1:\n",
    "    f=f1.read()\n",
    "    print(f)"
   ]
  },
  {
   "cell_type": "code",
   "execution_count": 30,
   "metadata": {},
   "outputs": [
    {
     "name": "stdout",
     "output_type": "stream",
     "text": [
      "Python online course\n",
      "\n",
      "VzdaHappy noonsatish\n",
      "\n"
     ]
    }
   ],
   "source": [
    "with open (\"file1.txt\",\"r\") as f1:\n",
    "    f2=f1.readline()\n",
    "    f3=f1.readline()\n",
    "    print(f2)\n",
    "    print(f3)\n",
    "    "
   ]
  },
  {
   "cell_type": "code",
   "execution_count": 31,
   "metadata": {},
   "outputs": [
    {
     "name": "stdout",
     "output_type": "stream",
     "text": [
      "['Python online course\\n', 'VzdaHappy noonsatish\\n', 'Happy noon\\n', 'satish\\n']\n"
     ]
    }
   ],
   "source": [
    "with open (\"file1.txt\",\"r\") as f1:\n",
    "    f=f1.readlines()\n",
    "    print(f)"
   ]
  },
  {
   "cell_type": "code",
   "execution_count": 32,
   "metadata": {},
   "outputs": [],
   "source": [
    "## read will gives the output as string format\n",
    "## readlines will gives output as list format"
   ]
  },
  {
   "cell_type": "code",
   "execution_count": 34,
   "metadata": {},
   "outputs": [
    {
     "data": {
      "text/plain": [
       "4"
      ]
     },
     "execution_count": 34,
     "metadata": {},
     "output_type": "execute_result"
    }
   ],
   "source": [
    "len(f)"
   ]
  },
  {
   "cell_type": "code",
   "execution_count": 36,
   "metadata": {},
   "outputs": [
    {
     "name": "stdout",
     "output_type": "stream",
     "text": [
      "Pyt\n",
      "hon o\n",
      "8\n"
     ]
    }
   ],
   "source": [
    "with open(\"file1.txt\") as f1:\n",
    "    print(f1.read(3))\n",
    "    print(f1.read(5))\n",
    "    print(f1.tell())## cursor position\n",
    "    "
   ]
  },
  {
   "cell_type": "markdown",
   "metadata": {},
   "source": [
    "## create a file as sample1.txt \n",
    "1. line count\n",
    "2. Word Count\n",
    "3. Charcters count\n"
   ]
  },
  {
   "cell_type": "markdown",
   "metadata": {},
   "source": [
    "## Generate a marks for 50 students in a file\n",
    "1. avg of marks\n",
    "2. pass percentage\n",
    "3. Fail percentage\n",
    "4. Distinction Percentage"
   ]
  },
  {
   "cell_type": "code",
   "execution_count": 41,
   "metadata": {},
   "outputs": [],
   "source": [
    "# generate a file with 50 stdents marks\n",
    "import random \n",
    "with open(\"marks.txt\",\"w\")as f:\n",
    "    for i in range(1,51):\n",
    "        m=random.randint(1,100)\n",
    "        #print(m)\n",
    "        f.write(str(m)+'\\n')\n",
    "            \n",
    "        "
   ]
  },
  {
   "cell_type": "code",
   "execution_count": 47,
   "metadata": {},
   "outputs": [
    {
     "name": "stdout",
     "output_type": "stream",
     "text": [
      "54.22\n"
     ]
    }
   ],
   "source": [
    "## read the file\n",
    "with open(\"marks.txt\",\"r\") as f1:\n",
    "    f2=f1.read().split()\n",
    "    #print(f2)\n",
    "    s=0\n",
    "    t=0\n",
    "    a=0\n",
    "    for i in f2:\n",
    "        s=s+int(i)\n",
    "        t=t+1\n",
    "        #print(s)\n",
    "        #print(t)\n",
    "        a=s/t\n",
    "        #a=s+int(i)/t+1\n",
    "    print(a)\n",
    "        \n",
    "        \n",
    "    "
   ]
  },
  {
   "cell_type": "code",
   "execution_count": 49,
   "metadata": {},
   "outputs": [
    {
     "name": "stdout",
     "output_type": "stream",
     "text": [
      "36\n",
      "50\n",
      "72.0\n"
     ]
    }
   ],
   "source": [
    "## pass percentage\n",
    "with open(\"marks.txt\",\"r\") as f1:\n",
    "    f2=f1.read().split()\n",
    "    ps=0# pass students count\n",
    "    tc=0# total count\n",
    "    psa=0\n",
    "    for i in f2:\n",
    "        tc+=1\n",
    "        if int(i)>=35:\n",
    "            ps+=1\n",
    "        psa=ps/tc*100\n",
    "    print(ps)\n",
    "    print(tc)\n",
    "    print(psa)\n",
    "        "
   ]
  },
  {
   "cell_type": "code",
   "execution_count": null,
   "metadata": {},
   "outputs": [],
   "source": []
  }
 ],
 "metadata": {
  "kernelspec": {
   "display_name": "Python 3",
   "language": "python",
   "name": "python3"
  },
  "language_info": {
   "codemirror_mode": {
    "name": "ipython",
    "version": 3
   },
   "file_extension": ".py",
   "mimetype": "text/x-python",
   "name": "python",
   "nbconvert_exporter": "python",
   "pygments_lexer": "ipython3",
   "version": "3.7.6"
  }
 },
 "nbformat": 4,
 "nbformat_minor": 4
}
